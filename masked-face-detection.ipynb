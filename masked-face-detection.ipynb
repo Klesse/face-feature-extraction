{
 "cells": [
  {
   "cell_type": "markdown",
   "metadata": {
    "id": "KMRfgYHJqGPn"
   },
   "source": [
    "## Libraries"
   ]
  },
  {
   "cell_type": "code",
   "execution_count": 2,
   "metadata": {
    "id": "kmiaWUGEqFXf"
   },
   "outputs": [],
   "source": [
    "import os\n",
    "import numpy as np\n",
    "import cv2\n",
    "\n",
    "import pprint\n",
    "\n",
    "import tensorflow as tf\n",
    "from tensorflow.keras.layers import Input, Conv2D, Flatten, Dense, Lambda\n",
    "from tensorflow.keras.models import Model\n",
    "from tensorflow.keras.optimizers import Adam\n",
    "from tensorflow.keras.preprocessing.image import load_img, img_to_array"
   ]
  },
  {
   "cell_type": "markdown",
   "metadata": {
    "id": "4BV5B-24v1GC"
   },
   "source": [
    "## VGG16 feature extraction"
   ]
  },
  {
   "cell_type": "code",
   "execution_count": 3,
   "metadata": {
    "colab": {
     "base_uri": "https://localhost:8080/"
    },
    "id": "xuhZACclfFrN",
    "outputId": "853c0b28-054c-44b8-c6ff-bad3f4f45db8"
   },
   "outputs": [],
   "source": [
    "from tensorflow.keras.applications import VGG16\n",
    "from tensorflow.keras.models import Model\n",
    "\n",
    "base_model = VGG16(weights='imagenet', include_top=False) # Pre-trianed model - imagenet"
   ]
  },
  {
   "cell_type": "code",
   "execution_count": 4,
   "metadata": {
    "id": "8fPKcB3Hf9LG"
   },
   "outputs": [],
   "source": [
    "from tensorflow.keras.preprocessing.image import load_img, img_to_array\n",
    "from tensorflow.keras.applications.vgg16 import preprocess_input\n",
    "import numpy as np\n",
    "\n",
    "def extract_features(image_path, model):\n",
    "    img = load_img(image_path, target_size=(224, 224)) # Carregar a imagem\n",
    "    img_array = img_to_array(img) # Transformar a imagem em um array\n",
    "    img_array = np.expand_dims(img_array, axis=0) # Criar um lote com a imagem, para ajudar no processamento da imagem pela rede\n",
    "    img_array = preprocess_input(img_array) # Pré-processar a imagem para a rede VGG16 especifica\n",
    "\n",
    "    features = model.predict(img_array) # Encontrar as features da imagem\n",
    "    return features.flatten() # Transformar as features em um vetor unidimensional, para melhorar a comparação\n",
    "\n"
   ]
  },
  {
   "cell_type": "code",
   "execution_count": 5,
   "metadata": {
    "colab": {
     "base_uri": "https://localhost:8080/",
     "height": 1000
    },
    "id": "4uXQ0eRBfcAj",
    "outputId": "bf2a57f1-6f63-476e-ee5e-5f5b354e1169"
   },
   "outputs": [
    {
     "name": "stdout",
     "output_type": "stream",
     "text": [
      "1/1 [==============================] - 0s 429ms/step\n",
      "1/1 [==============================] - 0s 298ms/step\n",
      "1/1 [==============================] - 0s 300ms/step\n",
      "1/1 [==============================] - 0s 305ms/step\n",
      "1/1 [==============================] - 0s 307ms/step\n",
      "1/1 [==============================] - 0s 301ms/step\n",
      "1/1 [==============================] - 0s 305ms/step\n",
      "1/1 [==============================] - 0s 312ms/step\n",
      "1/1 [==============================] - 0s 313ms/step\n",
      "1/1 [==============================] - 0s 329ms/step\n",
      "1/1 [==============================] - 0s 328ms/step\n",
      "1/1 [==============================] - 0s 316ms/step\n",
      "1/1 [==============================] - 0s 301ms/step\n",
      "1/1 [==============================] - 0s 316ms/step\n",
      "1/1 [==============================] - 0s 307ms/step\n",
      "1/1 [==============================] - 0s 315ms/step\n",
      "1/1 [==============================] - 0s 321ms/step\n",
      "1/1 [==============================] - 0s 328ms/step\n",
      "1/1 [==============================] - 0s 367ms/step\n",
      "1/1 [==============================] - 0s 355ms/step\n"
     ]
    }
   ],
   "source": [
    "import os\n",
    "\n",
    "database = {}\n",
    "\n",
    "celebrities_folder = './data' # Diretório com as pastas das celebridades\n",
    "for celebrity_name in os.listdir(celebrities_folder):\n",
    "    celebrity_path = os.path.join(celebrities_folder, celebrity_name)\n",
    "    if os.path.isdir(celebrity_path):\n",
    "        celebrity_vectors = []\n",
    "        for image_name in os.listdir(celebrity_path):\n",
    "            image_path = os.path.join(celebrity_path, image_name)\n",
    "            features = extract_features(image_path, base_model)\n",
    "            celebrity_vectors.append(features)\n",
    "        database[celebrity_name] = celebrity_vectors # Atribuir os vetores de features associados ao índice da respectiva celebridade no database\n"
   ]
  },
  {
   "cell_type": "code",
   "execution_count": 6,
   "metadata": {
    "colab": {
     "base_uri": "https://localhost:8080/"
    },
    "id": "ZQXqqEKzsBuA",
    "outputId": "fb4306c0-aeb2-4966-d53c-fca71cf8154b"
   },
   "outputs": [
    {
     "name": "stdout",
     "output_type": "stream",
     "text": [
      "{'Aaron_Guiel': [array([0., 0., 0., ..., 0., 0., 0.], dtype=float32),\n",
      "                 array([ 0.     ,  0.     ,  0.     , ...,  0.     , 17.08794,  0.     ],\n",
      "      dtype=float32)],\n",
      " 'Ben_Lee': [array([0.       , 0.       , 0.       , ..., 0.       , 3.7836027,\n",
      "       4.7713842], dtype=float32),\n",
      "             array([ 0.       ,  0.       ,  0.       , ...,  0.       , 22.009975 ,\n",
      "        5.7654047], dtype=float32)],\n",
      " 'Edwin_Edwards': [array([ 0.      ,  0.      ,  0.      , ...,  0.      , 15.909018,\n",
      "        0.      ], dtype=float32),\n",
      "                   array([0.      , 0.      , 0.      , ..., 0.      , 7.482959, 0.      ],\n",
      "      dtype=float32)],\n",
      " 'Emmanuel_Milingo': [array([0., 0., 0., ..., 0., 0., 0.], dtype=float32),\n",
      "                      array([ 0.      ,  0.      ,  0.      , ...,  0.      , 40.209187,\n",
      "        0.      ], dtype=float32)],\n",
      " 'Joe_Torre': [array([0., 0., 0., ..., 0., 0., 0.], dtype=float32),\n",
      "               array([0., 0., 0., ..., 0., 0., 0.], dtype=float32)],\n",
      " 'Patrick_Bourrat': [array([ 0.      ,  0.      ,  0.      , ...,  0.      ,  0.      ,\n",
      "       18.376205], dtype=float32),\n",
      "                     array([0.       , 0.       , 0.       , ..., 0.       , 0.       ,\n",
      "       2.6691873], dtype=float32)],\n",
      " 'Paul_Celluci': [array([0., 0., 0., ..., 0., 0., 0.], dtype=float32),\n",
      "                  array([0., 0., 0., ..., 0., 0., 0.], dtype=float32)],\n",
      " 'Paul_Kagame': [array([ 0.      ,  0.      ,  0.      , ..., 26.312304,  0.      ,\n",
      "        0.      ], dtype=float32),\n",
      "                 array([0., 0., 0., ..., 0., 0., 0.], dtype=float32)],\n",
      " 'Tom_Cruise': [array([ 0.      ,  0.      ,  0.      , ...,  0.      ,  5.948818,\n",
      "       31.833029], dtype=float32),\n",
      "                array([0.      , 0.      , 0.      , ..., 0.      , 1.041028, 0.      ],\n",
      "      dtype=float32)],\n",
      " 'Tom_Curley': [array([0.       , 0.       , 0.       , ..., 0.       , 7.7625275,\n",
      "       0.       ], dtype=float32),\n",
      "                array([0., 0., 0., ..., 0., 0., 0.], dtype=float32)]}\n"
     ]
    }
   ],
   "source": [
    "import pprint\n",
    "pprint.pprint(database)"
   ]
  },
  {
   "cell_type": "markdown",
   "metadata": {
    "id": "vBDjSk8VuUSK"
   },
   "source": [
    "## Minkowski Distance - different distance measures varying p"
   ]
  },
  {
   "cell_type": "code",
   "execution_count": 7,
   "metadata": {
    "id": "zRf2T20Z4e4t"
   },
   "outputs": [],
   "source": [
    "def minkowski_distance(x, y, p=2): # p == 2 => euclidean distance\n",
    "    return np.linalg.norm(x - y, ord=p)"
   ]
  },
  {
   "cell_type": "markdown",
   "metadata": {
    "id": "ao6YnjhVufz_"
   },
   "source": [
    "![mink.png](data:image/png;base64,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)"
   ]
  },
  {
   "cell_type": "code",
   "execution_count": 8,
   "metadata": {
    "id": "3u8Hq76igOtD"
   },
   "outputs": [],
   "source": [
    "def people_match(input_features, database):\n",
    "    best_match = None\n",
    "    lowest_distance = float('inf')\n",
    "\n",
    "    for celebrity_name, celebrity_vectors in database.items():\n",
    "        for vector in celebrity_vectors:\n",
    "            distance = minkowski_distance(input_features, vector)\n",
    "            if distance < lowest_distance:\n",
    "                lowest_distance = distance\n",
    "                best_match = celebrity_name\n",
    "\n",
    "    return best_match\n"
   ]
  },
  {
   "cell_type": "markdown",
   "metadata": {
    "id": "7ieKmhw18c7a"
   },
   "source": [
    "## Testing with a celebrity in database"
   ]
  },
  {
   "cell_type": "code",
   "execution_count": 9,
   "metadata": {
    "colab": {
     "base_uri": "https://localhost:8080/"
    },
    "id": "yl1eVUM8uCQ3",
    "outputId": "4ef08c7d-6fc6-4141-c07c-703fa2f11321"
   },
   "outputs": [
    {
     "name": "stdout",
     "output_type": "stream",
     "text": [
      "The image belongs to : Tom_Cruise\n"
     ]
    }
   ],
   "source": [
    "descritor_new = database['Tom_Cruise'][0]\n",
    "matched_celebrity = people_match(descritor_new, database)\n",
    "print(\"The image belongs to :\", matched_celebrity)"
   ]
  },
  {
   "cell_type": "markdown",
   "metadata": {},
   "source": [
    "## Testing with a new celebrity"
   ]
  },
  {
   "cell_type": "code",
   "execution_count": 10,
   "metadata": {
    "id": "m75Z86wxp6jC"
   },
   "outputs": [],
   "source": [
    "tom_no_mask = './Tom_Hanks/Tom_Hanks_no_mask.jpg'\n",
    "\n",
    "tom_mask = './Tom_Hanks/Tom_Hanks_mask.jpg'"
   ]
  },
  {
   "cell_type": "code",
   "execution_count": 11,
   "metadata": {
    "colab": {
     "base_uri": "https://localhost:8080/"
    },
    "id": "3P9krBUJqMEg",
    "outputId": "f2ef0df0-5735-4ad2-d226-2ca34024757e"
   },
   "outputs": [
    {
     "name": "stdout",
     "output_type": "stream",
     "text": [
      "1/1 [==============================] - 0s 266ms/step\n"
     ]
    }
   ],
   "source": [
    "features = extract_features(tom_no_mask, base_model)\n",
    "database['Tom Hanks'] = features"
   ]
  },
  {
   "cell_type": "code",
   "execution_count": 12,
   "metadata": {
    "colab": {
     "base_uri": "https://localhost:8080/"
    },
    "id": "eHG4MMw5q8Db",
    "outputId": "9751316f-1131-4b6e-ee90-ae5b2533c7a1"
   },
   "outputs": [
    {
     "data": {
      "text/plain": [
       "array([0.       , 0.       , 0.       , ..., 0.       , 2.8277326,\n",
       "       0.       ], dtype=float32)"
      ]
     },
     "execution_count": 12,
     "metadata": {},
     "output_type": "execute_result"
    }
   ],
   "source": [
    "database['Tom Hanks']"
   ]
  },
  {
   "cell_type": "code",
   "execution_count": 13,
   "metadata": {
    "colab": {
     "base_uri": "https://localhost:8080/"
    },
    "id": "IpX6fO0Pu-pJ",
    "outputId": "02c6be71-6776-4a7a-e0ef-3f778ba2a396"
   },
   "outputs": [
    {
     "name": "stdout",
     "output_type": "stream",
     "text": [
      "1/1 [==============================] - 0s 265ms/step\n"
     ]
    }
   ],
   "source": [
    "feature_com_mascara = extract_features(tom_mask, base_model)"
   ]
  },
  {
   "cell_type": "code",
   "execution_count": 14,
   "metadata": {
    "colab": {
     "base_uri": "https://localhost:8080/"
    },
    "id": "-oyt4EBFqdGk",
    "outputId": "e6880e49-326c-4da2-b243-e06088db0aa5"
   },
   "outputs": [
    {
     "name": "stdout",
     "output_type": "stream",
     "text": [
      "The image belongs to : Tom Hanks\n"
     ]
    }
   ],
   "source": [
    "person = people_match(feature_com_mascara, database)\n",
    "print(\"The image belongs to :\", person)"
   ]
  }
 ],
 "metadata": {
  "accelerator": "GPU",
  "colab": {
   "provenance": []
  },
  "kernelspec": {
   "display_name": "Python 3 (ipykernel)",
   "language": "python",
   "name": "python3"
  },
  "language_info": {
   "codemirror_mode": {
    "name": "ipython",
    "version": 3
   },
   "file_extension": ".py",
   "mimetype": "text/x-python",
   "name": "python",
   "nbconvert_exporter": "python",
   "pygments_lexer": "ipython3",
   "version": "3.10.12"
  }
 },
 "nbformat": 4,
 "nbformat_minor": 4
}
